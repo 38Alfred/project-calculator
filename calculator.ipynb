{
 "cells": [
  {
   "cell_type": "code",
   "execution_count": null,
   "metadata": {},
   "outputs": [],
   "source": [
    "import math\n",
    "\n",
    "class addition:\n",
    "    def add(self, x, y):\n",
    "        return x + y\n",
    "addition_inst = addition()\n",
    "\n",
    "class subtraction:\n",
    "    def subtract(self, x, y):\n",
    "        return x - y\n",
    "subtract_inst = subtraction()\n",
    "    \n",
    "class division:\n",
    "    def divide(self, x, y):\n",
    "        return x / y\n",
    "divide_inst = division()\n",
    "\n",
    "class multiplication:\n",
    "    def multiply(self, x, y):\n",
    "        return x * y\n",
    "multiply_inst = multiplication()\n",
    "\n",
    "while True:\n",
    "    print(\"1.Addition\")\n",
    "    print(\"2.subtraction\")\n",
    "    print(\"3.Division\")\n",
    "    print(\"4.Multiplication\")\n",
    "\n",
    "    operation = input(\"select operation:1/2/3/4\")\n",
    "\n",
    "    x = float(input(\"Enter num1\"))\n",
    "    y = float(input(\"Enter num2\"))\n",
    "\n",
    "    if operation == \"1\":\n",
    "        result = addition_inst.add(x,y)\n",
    "        print(result)\n",
    "        \n",
    "    elif operation == \"2\":\n",
    "        result = subtract_inst.subtract(x,y)\n",
    "        print(result)\n",
    "    \n",
    "    elif operation == \"3\":\n",
    "        result = divide_inst.divide(x,y)\n",
    "        print(result)\n",
    "    elif operation == \"4\":\n",
    "        result = multiply_inst.multiply(x,y)\n",
    "        print(result)\n",
    "\n",
    "    else:\n",
    "        print(\"INVALID OPERATION\")\n",
    "\n",
    "    another_operation = input(\"Do you want to select another operation (yes/no)\")\n",
    "    if another_operation == \"no\":\n",
    "        break"
   ]
  }
 ],
 "metadata": {
  "kernelspec": {
   "display_name": "Python 3",
   "language": "python",
   "name": "python3"
  },
  "language_info": {
   "codemirror_mode": {
    "name": "ipython",
    "version": 3
   },
   "file_extension": ".py",
   "mimetype": "text/x-python",
   "name": "python",
   "nbconvert_exporter": "python",
   "pygments_lexer": "ipython3",
   "version": "3.12.2"
  }
 },
 "nbformat": 4,
 "nbformat_minor": 2
}
